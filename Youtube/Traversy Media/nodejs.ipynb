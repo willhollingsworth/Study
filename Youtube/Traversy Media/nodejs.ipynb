{
 "cells": [
  {
   "cell_type": "markdown",
   "metadata": {},
   "source": [
    "Node.js Crash Course\n",
    "https://www.youtube.com/watch?v=fBNz5xF-Kx4\n",
    "\n",
    "Current place \n",
    "https://youtu.be/fBNz5xF-Kx4?t=2264"
   ]
  }
 ],
 "metadata": {
  "language_info": {
   "name": "python"
  },
  "orig_nbformat": 4
 },
 "nbformat": 4,
 "nbformat_minor": 2
}
